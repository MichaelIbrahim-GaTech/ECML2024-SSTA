{
  "cells": [
    {
      "cell_type": "code",
      "execution_count": 12,
      "metadata": {
        "colab": {
          "base_uri": "https://localhost:8080/"
        },
        "id": "l9mKDAXC0BfX",
        "outputId": "fac1689b-16ee-4bee-cfaa-83fdeacffe54"
      },
      "outputs": [
        {
          "output_type": "stream",
          "name": "stdout",
          "text": [
            "Drive already mounted at /content/drive/; to attempt to forcibly remount, call drive.mount(\"/content/drive/\", force_remount=True).\n",
            "cp: cannot stat '/content/drive/MyDrive/ECML2024-STA/data_test_output_and_data_1940_2023': No such file or directory\n"
          ]
        }
      ],
      "source": [
        "#from google.colab import drive\n",
        "#drive.mount('/content/drive/')\n"
      ]
    },
    {
      "cell_type": "code",
      "source": [
        "#!cp -r /content/drive/MyDrive/ECML2024-STA/data_test_output_and_data_1940_2023.zip .\n",
        "#!unzip data_test_output_and_data_1940_2023.zip\n"
      ],
      "metadata": {
        "colab": {
          "base_uri": "https://localhost:8080/"
        },
        "id": "theVt7o8aSyn",
        "outputId": "b7b65cd2-6ab2-4037-d991-cede797eee72"
      },
      "execution_count": 15,
      "outputs": [
        {
          "output_type": "stream",
          "name": "stdout",
          "text": [
            "Archive:  data_test_output_and_data_1940_2023.zip\n",
            "  inflating: data_1940_2023/mslp_1940_2023.csv  \n",
            "  inflating: data_1940_2023/README.md  \n",
            "  inflating: data_1940_2023/sst_1940_2023.csv  \n",
            "  inflating: data_1940_2023/ssta_1940_2023.csv  \n",
            "  inflating: data_1940_2023/t2m_1940_2023.csv  \n",
            "  inflating: data_test_output/README.md  \n",
            "  inflating: data_test_output/test_output_phase_one.csv  \n",
            "  inflating: data_test_output/test_output_phase_two.csv  \n"
          ]
        }
      ]
    },
    {
      "cell_type": "code",
      "source": [
        "#import torch\n",
        "#\n",
        "#!pip uninstall torch-scatter torch-sparse torch-geometric torch-cluster  --y\n",
        "#!pip install torch-scatter -f https://data.pyg.org/whl/torch-{torch.__version__}.html\n",
        "#!pip install torch-sparse -f https://data.pyg.org/whl/torch-{torch.__version__}.html\n",
        "#!pip install torch-cluster -f https://data.pyg.org/whl/torch-{torch.__version__}.html\n",
        "#!pip install git+https://github.com/pyg-team/pytorch_geometric.git\n",
        "#!pip install graph-weather"
      ],
      "metadata": {
        "id": "PcUu-pXkEsCN"
      },
      "execution_count": null,
      "outputs": []
    },
    {
      "cell_type": "code",
      "execution_count": 2,
      "metadata": {
        "colab": {
          "base_uri": "https://localhost:8080/"
        },
        "id": "3c7dQOJtzxgl",
        "outputId": "912d83a0-cbab-4c09-b46f-5792bd059076"
      },
      "outputs": [
        {
          "output_type": "stream",
          "name": "stdout",
          "text": [
            "Collecting catboost\n",
            "  Downloading catboost-1.2.5-cp310-cp310-manylinux2014_x86_64.whl (98.2 MB)\n",
            "\u001b[2K     \u001b[90m━━━━━━━━━━━━━━━━━━━━━━━━━━━━━━━━━━━━━━━━\u001b[0m \u001b[32m98.2/98.2 MB\u001b[0m \u001b[31m21.3 MB/s\u001b[0m eta \u001b[36m0:00:00\u001b[0m\n",
            "\u001b[?25hRequirement already satisfied: graphviz in /usr/local/lib/python3.10/dist-packages (from catboost) (0.20.3)\n",
            "Requirement already satisfied: matplotlib in /usr/local/lib/python3.10/dist-packages (from catboost) (3.7.1)\n",
            "Requirement already satisfied: numpy>=1.16.0 in /usr/local/lib/python3.10/dist-packages (from catboost) (1.25.2)\n",
            "Requirement already satisfied: pandas>=0.24 in /usr/local/lib/python3.10/dist-packages (from catboost) (2.0.3)\n",
            "Requirement already satisfied: scipy in /usr/local/lib/python3.10/dist-packages (from catboost) (1.11.4)\n",
            "Requirement already satisfied: plotly in /usr/local/lib/python3.10/dist-packages (from catboost) (5.15.0)\n",
            "Requirement already satisfied: six in /usr/local/lib/python3.10/dist-packages (from catboost) (1.16.0)\n",
            "Requirement already satisfied: python-dateutil>=2.8.2 in /usr/local/lib/python3.10/dist-packages (from pandas>=0.24->catboost) (2.8.2)\n",
            "Requirement already satisfied: pytz>=2020.1 in /usr/local/lib/python3.10/dist-packages (from pandas>=0.24->catboost) (2023.4)\n",
            "Requirement already satisfied: tzdata>=2022.1 in /usr/local/lib/python3.10/dist-packages (from pandas>=0.24->catboost) (2024.1)\n",
            "Requirement already satisfied: contourpy>=1.0.1 in /usr/local/lib/python3.10/dist-packages (from matplotlib->catboost) (1.2.1)\n",
            "Requirement already satisfied: cycler>=0.10 in /usr/local/lib/python3.10/dist-packages (from matplotlib->catboost) (0.12.1)\n",
            "Requirement already satisfied: fonttools>=4.22.0 in /usr/local/lib/python3.10/dist-packages (from matplotlib->catboost) (4.53.0)\n",
            "Requirement already satisfied: kiwisolver>=1.0.1 in /usr/local/lib/python3.10/dist-packages (from matplotlib->catboost) (1.4.5)\n",
            "Requirement already satisfied: packaging>=20.0 in /usr/local/lib/python3.10/dist-packages (from matplotlib->catboost) (24.1)\n",
            "Requirement already satisfied: pillow>=6.2.0 in /usr/local/lib/python3.10/dist-packages (from matplotlib->catboost) (9.4.0)\n",
            "Requirement already satisfied: pyparsing>=2.3.1 in /usr/local/lib/python3.10/dist-packages (from matplotlib->catboost) (3.1.2)\n",
            "Requirement already satisfied: tenacity>=6.2.0 in /usr/local/lib/python3.10/dist-packages (from plotly->catboost) (8.4.2)\n",
            "Installing collected packages: catboost\n",
            "Successfully installed catboost-1.2.5\n"
          ]
        }
      ],
      "source": [
        "!pip install catboost"
      ]
    },
    {
      "cell_type": "code",
      "execution_count": 3,
      "metadata": {
        "id": "mOCRvvmp0hcg"
      },
      "outputs": [],
      "source": [
        "import pandas as pd\n",
        "import numpy as np\n",
        "#from kan import *\n",
        "from sklearn.model_selection import StratifiedKFold,KFold\n",
        "from catboost import CatBoostRegressor\n",
        "from sklearn.metrics import mean_squared_error\n",
        "from sklearn.neighbors import KNeighborsRegressor\n",
        "import xgboost\n",
        "import lightgbm\n",
        "from sklearn.ensemble import RandomForestRegressor\n",
        "from sklearn import linear_model"
      ]
    },
    {
      "cell_type": "code",
      "execution_count": 68,
      "metadata": {
        "id": "wD4e8lwd1QT7"
      },
      "outputs": [],
      "source": [
        "locations = num_nodes = 5774\n",
        "H = 9 #forecasting horizon"
      ]
    },
    {
      "cell_type": "code",
      "execution_count": 69,
      "metadata": {
        "id": "Kl1X3JYy0f6Q"
      },
      "outputs": [],
      "source": [
        "coords = pd.read_csv('coords.csv',header=None)\n",
        "\n",
        "full_mlsp = pd.read_csv('data_1940_2023/mslp_1940_2023.csv',header=None).to_numpy()\n",
        "full_sst = pd.read_csv('data_1940_2023/sst_1940_2023.csv',header=None).to_numpy()\n",
        "full_ssta = pd.read_csv('data_1940_2023/ssta_1940_2023.csv',header=None).to_numpy()\n",
        "full_t2m = pd.read_csv('data_1940_2023/t2m_1940_2023.csv',header=None).to_numpy()\n",
        "\n",
        "train_mlsp = pd.read_csv('data_1940_2023/mslp_1940_2023.csv',header=None).to_numpy()\n",
        "train_sst = pd.read_csv('data_1940_2023/sst_1940_2023.csv',header=None).to_numpy()\n",
        "train_ssta = pd.read_csv('data_1940_2023/ssta_1940_2023.csv',header=None).to_numpy()\n",
        "train_t2m = pd.read_csv('data_1940_2023/t2m_1940_2023.csv',header=None).to_numpy()\n"
      ]
    },
    {
      "cell_type": "code",
      "source": [
        "train_out = train_ssta[H:,:]\n",
        "train_ssta = train_ssta[:-H,:]\n",
        "train_t2m = train_t2m[:-H,:]\n",
        "train_sst = train_sst[:-H,:]\n",
        "train_mlsp = train_mlsp[:-H,:]"
      ],
      "metadata": {
        "id": "ceHZCIoIfnzs"
      },
      "execution_count": 70,
      "outputs": []
    },
    {
      "cell_type": "code",
      "source": [
        "train_month = np.zeros((train_ssta.shape[0],1))\n",
        "time = np.zeros((train_ssta.shape[0],1))\n",
        "for i in range(train_ssta.shape[0]):\n",
        "  train_month[i,0] = int((i+H)%12)\n",
        "  time[i,0] = i/1008"
      ],
      "metadata": {
        "id": "tVzndRy-gGbi"
      },
      "execution_count": 126,
      "outputs": []
    },
    {
      "cell_type": "code",
      "source": [
        "coords\n",
        "for i in range(locations):\n",
        "  if coords.at[0,i] == 56 and coords.at[1,i] == 19.6875:\n",
        "    print(1, i)\n",
        "  if coords.at[0,i] == 58 and coords.at[1,i] == 19.6875:\n",
        "    print(2, i)\n",
        "  if coords.at[0,i] == 62 and coords.at[1,i] == 19.6875:\n",
        "    print(3, i)\n",
        "baltic_locations = [5640, 5690, 5773]"
      ],
      "metadata": {
        "colab": {
          "base_uri": "https://localhost:8080/"
        },
        "id": "q5gUUcLnPg06",
        "outputId": "bc6fc87b-89ab-4ea3-b763-c3b8b9ae4b6c"
      },
      "execution_count": 72,
      "outputs": [
        {
          "output_type": "stream",
          "name": "stdout",
          "text": [
            "1 5640\n",
            "2 5690\n",
            "3 5773\n"
          ]
        }
      ]
    },
    {
      "cell_type": "code",
      "source": [
        "train_t2m.shape"
      ],
      "metadata": {
        "colab": {
          "base_uri": "https://localhost:8080/"
        },
        "id": "tebfsNoSfWqt",
        "outputId": "524061ec-773b-4035-c64d-f9dbfc87578a"
      },
      "execution_count": 73,
      "outputs": [
        {
          "output_type": "execute_result",
          "data": {
            "text/plain": [
              "(999, 5774)"
            ]
          },
          "metadata": {},
          "execution_count": 73
        }
      ]
    },
    {
      "cell_type": "code",
      "source": [
        "import numpy as np\n",
        "import pandas as pd\n",
        "from scipy import stats\n",
        "from sklearn.linear_model import LinearRegression\n",
        "def get_conf_int(alpha, lr, X, y):\n",
        "\n",
        "    \"\"\"\n",
        "    Returns (1-alpha) 2-sided confidence intervals\n",
        "    for sklearn.LinearRegression coefficients\n",
        "    as a pandas DataFrame\n",
        "    \"\"\"\n",
        "\n",
        "    coefs = lr.coef_\n",
        "    X_aux = X.copy()\n",
        "    dof = -np.diff(X_aux.shape)[0]\n",
        "    mse = np.sum((y - lr.predict(X)) ** 2) / dof\n",
        "    var_params = np.diag(np.linalg.inv(X_aux.T.dot(X_aux)))\n",
        "    t_val = stats.t.isf(alpha/2, dof)\n",
        "    gap = t_val * np.sqrt(mse * var_params)\n",
        "\n",
        "    return {\n",
        "        'lower': coefs - gap, 'upper': coefs + gap\n",
        "    }"
      ],
      "metadata": {
        "id": "6M8A-Z4oHg-Y"
      },
      "execution_count": 98,
      "outputs": []
    },
    {
      "cell_type": "code",
      "source": [
        "test_predictions = np.zeros((71, 5774))\n",
        "for l in baltic_locations:\n",
        "  print(l)\n",
        "  index = l\n",
        "  train_len = 1008-H-1*12\n",
        "  val_len = 1008-H-train_len\n",
        "  input = np.zeros((train_len,6))\n",
        "  output = np.zeros((train_len,1))\n",
        "  val_input = np.zeros((val_len,6))\n",
        "  val_output = np.zeros((val_len,1))\n",
        "\n",
        "  input[:,0] = train_mlsp[:train_len,index]\n",
        "  input[:,1] = train_sst[:train_len,index]\n",
        "  input[:,2] = train_t2m[:train_len,index]\n",
        "  input[:,3] = train_ssta[:train_len,index]\n",
        "  input[:,4] = train_month[:train_len,0]\n",
        "  input[:,5] = time[:train_len,0]\n",
        "  output[:,0] = train_out[:train_len,index]\n",
        "\n",
        "  val_input[:,0] = train_mlsp[train_len:,index]\n",
        "  val_input[:,1] = train_sst[train_len:,index]\n",
        "  val_input[:,2] = train_t2m[train_len:,index]\n",
        "  val_input[:,3] = train_ssta[train_len:,index]\n",
        "  val_input[:,4] = train_month[train_len:,0]\n",
        "  val_input[:,5] = time[train_len:,0]\n",
        "  val_output[:,0] = train_out[train_len:,index]\n",
        "\n",
        "  test_input = np.zeros((1,6))\n",
        "  test_input[0,0] = full_mlsp[-1,index]\n",
        "  test_input[0,1] = full_sst[-1,index]\n",
        "  test_input[0,2] = full_t2m[-1,index]\n",
        "  test_input[0,3] = full_ssta[-1,index]\n",
        "  test_input[0,4] = int((1007+H)%12)\n",
        "  test_input[0,5] = 1\n",
        "  test_output = np.zeros((1,4))\n",
        "  test_output_final = np.zeros((1,1))\n",
        "\n",
        "  cross_val_output = np.zeros((val_len,4))\n",
        "  test_val_output = np.zeros((val_len,1))\n",
        "  cb_model = CatBoostRegressor(random_seed=42,verbose=False,use_best_model=True,iterations=100)\n",
        "  cb_model.fit(input,output,eval_set=(val_input,val_output))\n",
        "  cross_val_output[:,0] = cb_model.predict(val_input)\n",
        "  test_output[:,0] = cb_model.predict(test_input)\n",
        "  rf = RandomForestRegressor(n_estimators = 100, random_state = 42)\n",
        "  rf.fit(input,output)\n",
        "  cross_val_output[:,1] = rf.predict(val_input)\n",
        "  test_output[:,1] = rf.predict(test_input)\n",
        "  lgb_model = lightgbm.LGBMRegressor(n_estimators = 100, random_state = 42,verbose= -1)\n",
        "  lgb_model.fit(input,output,eval_set=(val_input,val_output))\n",
        "  cross_val_output[:,2] = lgb_model.predict(val_input)\n",
        "  test_output[:,2] = lgb_model.predict(test_input)\n",
        "  xgb_model = xgboost.XGBRegressor(n_estimators=100,random_state=42)\n",
        "  xgb_model.fit(input,output,eval_set=[(val_input,val_output)], verbose=False)#\n",
        "  cross_val_output[:,3] = xgb_model.predict(val_input)\n",
        "  test_output[:,3] = xgb_model.predict(test_input)\n",
        "\n",
        "  meta_lasso = linear_model.LinearRegression(fit_intercept=False)#.Lasso(alpha=0.01,fit_intercept=False)#\n",
        "  meta_lasso.fit(cross_val_output,val_output)\n",
        "  CI = get_conf_int(0.5, meta_lasso, cross_val_output, val_output)\n",
        "  test_val_output[:,0] = meta_lasso.predict(cross_val_output).flatten()\n",
        "  test_output_final[:,0] = meta_lasso.predict(test_output)\n",
        "  lower = np.dot(CI['lower'],test_output.T)\n",
        "  upper = np.dot(CI['upper'],test_output.T)\n",
        "\n",
        "  model_error1 = mean_squared_error(val_output, cross_val_output[:,0])\n",
        "  model_error2 = mean_squared_error(val_output, cross_val_output[:,1])\n",
        "  model_error3 = mean_squared_error(val_output, cross_val_output[:,2])\n",
        "  model_error4 = mean_squared_error(val_output, cross_val_output[:,3])\n",
        "  model_error = mean_squared_error(val_output, test_val_output[:,0])\n",
        "  no_model_error = mean_squared_error(val_output, val_input[:,3])\n",
        "  print(np.sqrt(model_error),np.sqrt(no_model_error),np.sqrt(model_error1),np.sqrt(model_error2),np.sqrt(model_error3),np.sqrt(model_error4))\n",
        "  test_predictions[:,index] = test_output_final[:,0]\n",
        "\n",
        "  print(test_output_final,lower,upper)\n",
        "\n"
      ],
      "metadata": {
        "id": "5nWspiABfK8V",
        "colab": {
          "base_uri": "https://localhost:8080/"
        },
        "outputId": "ab16f8b1-a200-4e52-ce51-cca7904ff7c7"
      },
      "execution_count": 135,
      "outputs": [
        {
          "output_type": "stream",
          "name": "stdout",
          "text": [
            "5640\n"
          ]
        },
        {
          "output_type": "stream",
          "name": "stderr",
          "text": [
            "<ipython-input-135-17ec34a574d6>:45: DataConversionWarning: A column-vector y was passed when a 1d array was expected. Please change the shape of y to (n_samples,), for example using ravel().\n",
            "  rf.fit(input,output)\n",
            "/usr/local/lib/python3.10/dist-packages/sklearn/utils/validation.py:1143: DataConversionWarning: A column-vector y was passed when a 1d array was expected. Please change the shape of y to (n_samples, ), for example using ravel().\n",
            "  y = column_or_1d(y, warn=True)\n",
            "/usr/local/lib/python3.10/dist-packages/lightgbm/basic.py:300: UserWarning: Converting column-vector to 1d array\n",
            "  _log_warning('Converting column-vector to 1d array')\n"
          ]
        },
        {
          "output_type": "stream",
          "name": "stdout",
          "text": [
            "0.3335793880819365 1.02546097366614 0.6711716869988532 0.7422762449339873 0.8934211808132705 0.7932030829627355\n",
            "[[1.4317156]] [[-0.79328741]] [[3.65671861]]\n",
            "5690\n"
          ]
        },
        {
          "output_type": "stream",
          "name": "stderr",
          "text": [
            "<ipython-input-135-17ec34a574d6>:45: DataConversionWarning: A column-vector y was passed when a 1d array was expected. Please change the shape of y to (n_samples,), for example using ravel().\n",
            "  rf.fit(input,output)\n",
            "/usr/local/lib/python3.10/dist-packages/sklearn/utils/validation.py:1143: DataConversionWarning: A column-vector y was passed when a 1d array was expected. Please change the shape of y to (n_samples, ), for example using ravel().\n",
            "  y = column_or_1d(y, warn=True)\n",
            "/usr/local/lib/python3.10/dist-packages/lightgbm/basic.py:300: UserWarning: Converting column-vector to 1d array\n",
            "  _log_warning('Converting column-vector to 1d array')\n"
          ]
        },
        {
          "output_type": "stream",
          "name": "stdout",
          "text": [
            "0.5624051909849404 1.423937092063874 0.8781282771105161 0.9906351913830184 0.944345820515879 0.8522864537215075\n",
            "[[2.59397936]] [[-1.52689996]] [[6.71485868]]\n",
            "5773\n"
          ]
        },
        {
          "output_type": "stream",
          "name": "stderr",
          "text": [
            "<ipython-input-135-17ec34a574d6>:45: DataConversionWarning: A column-vector y was passed when a 1d array was expected. Please change the shape of y to (n_samples,), for example using ravel().\n",
            "  rf.fit(input,output)\n",
            "/usr/local/lib/python3.10/dist-packages/sklearn/utils/validation.py:1143: DataConversionWarning: A column-vector y was passed when a 1d array was expected. Please change the shape of y to (n_samples, ), for example using ravel().\n",
            "  y = column_or_1d(y, warn=True)\n",
            "/usr/local/lib/python3.10/dist-packages/lightgbm/basic.py:300: UserWarning: Converting column-vector to 1d array\n",
            "  _log_warning('Converting column-vector to 1d array')\n"
          ]
        },
        {
          "output_type": "stream",
          "name": "stdout",
          "text": [
            "0.5966411353856652 1.3373376429106576 0.8204044595702467 0.7987016816343239 0.9037005631088818 0.6805835342669966\n",
            "[[1.56377272]] [[-1.44704371]] [[4.57458915]]\n"
          ]
        }
      ]
    },
    {
      "cell_type": "code",
      "source": [],
      "metadata": {
        "id": "pNzHlu-8h2Fb"
      },
      "execution_count": null,
      "outputs": []
    }
  ],
  "metadata": {
    "colab": {
      "machine_shape": "hm",
      "provenance": []
    },
    "kernelspec": {
      "display_name": "Python 3",
      "name": "python3"
    },
    "language_info": {
      "name": "python"
    }
  },
  "nbformat": 4,
  "nbformat_minor": 0
}